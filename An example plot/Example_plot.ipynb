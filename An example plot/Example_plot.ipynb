{
 "cells": [
  {
   "cell_type": "code",
   "execution_count": null,
   "metadata": {},
   "outputs": [],
   "source": [
    "# This part is only an example to see how the UCLCHEM outputs would look like\n",
    "import uclchem\n",
    "import matplotlib.pyplot as plt\n",
    "\n",
    "# Pick some species of interest\n",
    "species_list=[\"CS\",\"NH3\",\"H2\",\"CO\",\"H\",\"H2O\"]\n",
    "\n",
    "# Use one model as an example, which parameters are: density=10^3 cm^-3, T=10K, cosmic ray=1, UV=1\n",
    "model_data=uclchem.analysis.read_output_file(\"1000.0_10.0_10.0_10.0.csv\")\n",
    "\n",
    "# The 'create_abundance_plot' will return a pyplot figure and axis objects where the axis\n",
    "# contains a plot of the species abundance through time for all species in species_list\n",
    "fig,ax=uclchem.analysis.create_abundance_plot(model_data,species_list,figsize=(10,7))\n",
    "ax.set(xscale=\"log\",ylim=(1e-15,1),xlim=(1e0,1e6))\n",
    "ax.set_title('Plot of Time against Abundance with parameters: density=10^3, T=10, zeta=1, UV=10')\n",
    "fig.savefig('example_plot.jpg')  # save the plot"
   ]
  }
 ],
 "metadata": {
  "kernelspec": {
   "display_name": "Python 3.8.8 ('base')",
   "language": "python",
   "name": "python3"
  },
  "language_info": {
   "name": "python",
   "version": "3.8.8"
  },
  "orig_nbformat": 4,
  "vscode": {
   "interpreter": {
    "hash": "d96d2ed5989ad5014c1b7e929d0a26bb01b2b6ed021cf29226e017fbc7d13eac"
   }
  }
 },
 "nbformat": 4,
 "nbformat_minor": 2
}
